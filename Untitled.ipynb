{
 "cells": [
  {
   "cell_type": "code",
   "execution_count": 1,
   "id": "3e3205dc-4a7a-41e9-9eb3-433d155e0f03",
   "metadata": {},
   "outputs": [
    {
     "name": "stderr",
     "output_type": "stream",
     "text": [
      "/tmp/ipykernel_10641/2026290336.py:1: DeprecationWarning: \n",
      "Pyarrow will become a required dependency of pandas in the next major release of pandas (pandas 3.0),\n",
      "(to allow more performant data types, such as the Arrow string type, and better interoperability with other libraries)\n",
      "but was not found to be installed on your system.\n",
      "If this would cause problems for you,\n",
      "please provide us feedback at https://github.com/pandas-dev/pandas/issues/54466\n",
      "        \n",
      "  import pandas as pd\n",
      "2024-02-24 02:54:06.216206: E external/local_xla/xla/stream_executor/cuda/cuda_dnn.cc:9261] Unable to register cuDNN factory: Attempting to register factory for plugin cuDNN when one has already been registered\n",
      "2024-02-24 02:54:06.216254: E external/local_xla/xla/stream_executor/cuda/cuda_fft.cc:607] Unable to register cuFFT factory: Attempting to register factory for plugin cuFFT when one has already been registered\n",
      "2024-02-24 02:54:06.217056: E external/local_xla/xla/stream_executor/cuda/cuda_blas.cc:1515] Unable to register cuBLAS factory: Attempting to register factory for plugin cuBLAS when one has already been registered\n",
      "2024-02-24 02:54:06.220994: I tensorflow/core/platform/cpu_feature_guard.cc:182] This TensorFlow binary is optimized to use available CPU instructions in performance-critical operations.\n",
      "To enable the following instructions: AVX2 FMA, in other operations, rebuild TensorFlow with the appropriate compiler flags.\n"
     ]
    },
    {
     "name": "stdout",
     "output_type": "stream",
     "text": [
      "env: CUDA_DEVICE_ORDER=PCI_BUS_ID\n",
      "env: CUDA_VISIBLE_DEVICES=6\n"
     ]
    }
   ],
   "source": [
    "import pandas as pd\n",
    "import numpy as np\n",
    "from scipy import stats\n",
    "from pickle import load\n",
    "import seaborn as sns\n",
    "import matplotlib.pyplot as plt\n",
    "from matplotlib.pylab import rcParams\n",
    "from sklearn import metrics \n",
    "from sklearn.preprocessing import StandardScaler\n",
    "from sklearn.impute import SimpleImputer\n",
    "from model.nns import *\n",
    "from model.bls import BroadLearningSystem\n",
    "from model.elm import ELMRegressor, GenELMRegressor\n",
    "from model.random_layer import RandomLayer, MLPRandomLayer, RBFRandomLayer, GRBFRandomLayer\n",
    "from model.pyESN import ESN\n",
    "from evaluation import *# metric_calculation, pred_bls_elm, pred_esn, load_model_config\n",
    "from sklearn.manifold import TSNE\n",
    "\n",
    "\n",
    "%env CUDA_DEVICE_ORDER=PCI_BUS_ID\n",
    "%env CUDA_VISIBLE_DEVICES=6"
   ]
  },
  {
   "cell_type": "code",
   "execution_count": 2,
   "id": "852636f6-9041-441e-93dc-5da13820eb53",
   "metadata": {},
   "outputs": [],
   "source": [
    "%matplotlib inline\n",
    "rcParams[\"figure.subplot.wspace\"] = 0.05\n",
    "rcParams[\"figure.subplot.hspace\"] = 0.15\n",
    "rcParams[\"figure.titlesize\"] = 'xx-large'\n",
    "rcParams[\"figure.titleweight\"] = 'bold'\n",
    "rcParams['axes.titlesize'] = 'xx-large'\n",
    "rcParams['axes.titleweight'] = 'bold'\n",
    "rcParams['axes.labelsize'] = 'xx-large'\n",
    "rcParams['axes.labelweight'] = 'bold'\n",
    "rcParams[\"ytick.labelsize\"] = 'xx-large'\n",
    "rcParams[\"xtick.labelsize\"] = 'xx-large'\n",
    "rcParams[\"axes.xmargin\"] = 0.05"
   ]
  },
  {
   "cell_type": "code",
   "execution_count": 7,
   "id": "27aa0fed-e308-4f90-8a07-87156c8b7678",
   "metadata": {},
   "outputs": [
    {
     "name": "stdout",
     "output_type": "stream",
     "text": [
      "(9, 19000)\n"
     ]
    }
   ],
   "source": [
    "\n",
    "system_name = \"ecosystem\"\n",
    "sub= \"default\"\n",
    "setting = config.EXP_SETTING[system_name][sub]\n",
    "sequence = pd.read_csv(f\"data/datasets/{setting['file']}\").values\n",
    "print(sequence.shape)"
   ]
  },
  {
   "cell_type": "code",
   "execution_count": 5,
   "id": "75e6b887-9767-40d7-b202-57727424140b",
   "metadata": {},
   "outputs": [
    {
     "data": {
      "text/plain": [
       "array([ 9.77828582, 18.86888385, 34.31208471, 16.17481603, 40.56024175,\n",
       "        0.18286497,  0.10095871,  0.40815911,  0.21360492,  0.24402047])"
      ]
     },
     "execution_count": 5,
     "metadata": {},
     "output_type": "execute_result"
    }
   ],
   "source": [
    "np.load(\"./data/pre_generated/ecosystem/train.npy\")[0,0,:]"
   ]
  }
 ],
 "metadata": {
  "kernelspec": {
   "display_name": "Python 3 (ipykernel)",
   "language": "python",
   "name": "python3"
  },
  "language_info": {
   "codemirror_mode": {
    "name": "ipython",
    "version": 3
   },
   "file_extension": ".py",
   "mimetype": "text/x-python",
   "name": "python",
   "nbconvert_exporter": "python",
   "pygments_lexer": "ipython3",
   "version": "3.11.0rc1"
  }
 },
 "nbformat": 4,
 "nbformat_minor": 5
}
