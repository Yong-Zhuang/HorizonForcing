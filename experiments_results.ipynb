{
 "cells": [
  {
   "cell_type": "code",
   "execution_count": 1,
   "metadata": {},
   "outputs": [
    {
     "name": "stderr",
     "output_type": "stream",
     "text": [
      "2024-02-19 18:08:25.018353: I tensorflow/core/platform/cpu_feature_guard.cc:182] This TensorFlow binary is optimized to use available CPU instructions in performance-critical operations.\n",
      "To enable the following instructions: AVX2 FMA, in other operations, rebuild TensorFlow with the appropriate compiler flags.\n"
     ]
    },
    {
     "name": "stdout",
     "output_type": "stream",
     "text": [
      "env: CUDA_DEVICE_ORDER=PCI_BUS_ID\n",
      "env: CUDA_VISIBLE_DEVICES=6\n"
     ]
    }
   ],
   "source": [
    "import pandas as pd\n",
    "import numpy as np\n",
    "from scipy import stats\n",
    "from pickle import load\n",
    "import seaborn as sns\n",
    "import matplotlib.pyplot as plt\n",
    "from matplotlib.pylab import rcParams\n",
    "from sklearn import metrics \n",
    "from sklearn.preprocessing import StandardScaler\n",
    "from sklearn.impute import SimpleImputer\n",
    "from model.nns import *\n",
    "from model.bls import BroadLearningSystem\n",
    "from model.elm import ELMRegressor, GenELMRegressor\n",
    "from model.random_layer import RandomLayer, MLPRandomLayer, RBFRandomLayer, GRBFRandomLayer\n",
    "from model.pyESN import ESN\n",
    "from evaluation import *# metric_calculation, pred_bls_elm, pred_esn, load_model_config\n",
    "from sklearn.manifold import TSNE\n",
    "\n",
    "\n",
    "%env CUDA_DEVICE_ORDER=PCI_BUS_ID\n",
    "%env CUDA_VISIBLE_DEVICES=6"
   ]
  },
  {
   "cell_type": "code",
   "execution_count": 2,
   "metadata": {},
   "outputs": [],
   "source": [
    "%matplotlib inline\n",
    "rcParams[\"figure.subplot.wspace\"] = 0.05\n",
    "rcParams[\"figure.subplot.hspace\"] = 0.15\n",
    "rcParams[\"figure.titlesize\"] = 'xx-large'\n",
    "rcParams[\"figure.titleweight\"] = 'bold'\n",
    "rcParams['axes.titlesize'] = 'xx-large'\n",
    "rcParams['axes.titleweight'] = 'bold'\n",
    "rcParams['axes.labelsize'] = 'xx-large'\n",
    "rcParams['axes.labelweight'] = 'bold'\n",
    "rcParams[\"ytick.labelsize\"] = 'xx-large'\n",
    "rcParams[\"xtick.labelsize\"] = 'xx-large'\n",
    "rcParams[\"axes.xmargin\"] = 0.05"
   ]
  },
  {
   "cell_type": "markdown",
   "metadata": {},
   "source": [
    "### Evaluation\n"
   ]
  },
  {
   "cell_type": "code",
   "execution_count": null,
   "metadata": {},
   "outputs": [
    {
     "name": "stdout",
     "output_type": "stream",
     "text": [
      "train_samples (6800, 1500, 3), test_inputs (1201, 100, 3), y_true (1201, 1400, 3)\n",
      "here 2 lorenz/0.05, BLS pred shape is (1201, 200, 3); y_true shape is (1201, 200, 3)\n",
      "BLS on lorenz/0.05:, y_true shape (1201, 200, 3); y_pred shape (1201, 200, 3)\n",
      "here 2 lorenz/0.05, ELM pred shape is (1201, 200, 3); y_true shape is (1201, 200, 3)\n",
      "ELM on lorenz/0.05:, y_true shape (1201, 200, 3); y_pred shape (1201, 200, 3)\n",
      "lorenz/0.05, SSFS, pred shape is (1201, 300, 3); y_true shape is (1201, 200, 3); inference_steps 200\n",
      "here 2 lorenz/0.05, SSFS pred shape is (1201, 200, 3); y_true shape is (1201, 200, 3)\n",
      "SSFS on lorenz/0.05:, y_true shape (1201, 200, 3); y_pred shape (1201, 200, 3)\n",
      "lorenz/0.05, HF5, pred shape is (1201, 300, 3); y_true shape is (1201, 200, 3); inference_steps 200\n",
      "here 2 lorenz/0.05, HF5 pred shape is (1201, 200, 3); y_true shape is (1201, 200, 3)\n",
      "HF5 on lorenz/0.05:, y_true shape (1201, 200, 3); y_pred shape (1201, 200, 3)\n",
      "lorenz/0.05, HF10, pred shape is (1201, 300, 3); y_true shape is (1201, 200, 3); inference_steps 200\n",
      "here 2 lorenz/0.05, HF10 pred shape is (1201, 200, 3); y_true shape is (1201, 200, 3)\n",
      "HF10 on lorenz/0.05:, y_true shape (1201, 200, 3); y_pred shape (1201, 200, 3)\n",
      "lorenz/0.05, HF15, pred shape is (1201, 300, 3); y_true shape is (1201, 200, 3); inference_steps 200\n",
      "here 2 lorenz/0.05, HF15 pred shape is (1201, 200, 3); y_true shape is (1201, 200, 3)\n",
      "HF15 on lorenz/0.05:, y_true shape (1201, 200, 3); y_pred shape (1201, 200, 3)\n",
      "lorenz/0.05, HF20, pred shape is (1201, 300, 3); y_true shape is (1201, 200, 3); inference_steps 200\n",
      "here 2 lorenz/0.05, HF20 pred shape is (1201, 200, 3); y_true shape is (1201, 200, 3)\n",
      "HF20 on lorenz/0.05:, y_true shape (1201, 200, 3); y_pred shape (1201, 200, 3)\n",
      "train_samples (4400, 400, 3), test_inputs (801, 100, 3), y_true (801, 300, 3)\n",
      "here 2 accelerometer/3, BLS pred shape is (801, 300, 3); y_true shape is (801, 300, 3)\n",
      "BLS on accelerometer/3:, y_true shape (801, 300, 3); y_pred shape (801, 300, 3)\n",
      "here 2 accelerometer/3, ELM pred shape is (801, 300, 3); y_true shape is (801, 300, 3)\n",
      "ELM on accelerometer/3:, y_true shape (801, 300, 3); y_pred shape (801, 300, 3)\n",
      "accelerometer/3, SSFS, pred shape is (801, 400, 3); y_true shape is (801, 300, 3); inference_steps 300\n",
      "here 2 accelerometer/3, SSFS pred shape is (801, 300, 3); y_true shape is (801, 300, 3)\n",
      "SSFS on accelerometer/3:, y_true shape (801, 300, 3); y_pred shape (801, 300, 3)\n",
      "accelerometer/3, HF5, pred shape is (801, 400, 3); y_true shape is (801, 300, 3); inference_steps 300\n",
      "here 2 accelerometer/3, HF5 pred shape is (801, 300, 3); y_true shape is (801, 300, 3)\n",
      "HF5 on accelerometer/3:, y_true shape (801, 300, 3); y_pred shape (801, 300, 3)\n",
      "accelerometer/3, HF10, pred shape is (801, 400, 3); y_true shape is (801, 300, 3); inference_steps 300\n",
      "here 2 accelerometer/3, HF10 pred shape is (801, 300, 3); y_true shape is (801, 300, 3)\n",
      "HF10 on accelerometer/3:, y_true shape (801, 300, 3); y_pred shape (801, 300, 3)\n",
      "accelerometer/3, HF15, pred shape is (801, 400, 3); y_true shape is (801, 300, 3); inference_steps 300\n",
      "here 2 accelerometer/3, HF15 pred shape is (801, 300, 3); y_true shape is (801, 300, 3)\n",
      "HF15 on accelerometer/3:, y_true shape (801, 300, 3); y_pred shape (801, 300, 3)\n",
      "accelerometer/3, HF20, pred shape is (801, 400, 3); y_true shape is (801, 300, 3); inference_steps 300\n",
      "here 2 accelerometer/3, HF20 pred shape is (801, 300, 3); y_true shape is (801, 300, 3)\n",
      "HF20 on accelerometer/3:, y_true shape (801, 300, 3); y_pred shape (801, 300, 3)\n",
      "train_samples (4480, 400, 5), test_inputs (1050, 100, 5), y_true (1050, 300, 5)\n",
      "here 2 dwelling_worm/2, BLS pred shape is (1050, 160, 5); y_true shape is (1050, 160, 5)\n",
      "BLS on dwelling_worm/2:, y_true shape (1050, 160, 5); y_pred shape (1050, 160, 5)\n",
      "here 2 dwelling_worm/2, ELM pred shape is (1050, 160, 5); y_true shape is (1050, 160, 5)\n",
      "ELM on dwelling_worm/2:, y_true shape (1050, 160, 5); y_pred shape (1050, 160, 5)\n"
     ]
    },
    {
     "name": "stderr",
     "output_type": "stream",
     "text": [
      "2024-02-19 18:08:28.530132: E tensorflow/compiler/xla/stream_executor/cuda/cuda_driver.cc:268] failed call to cuInit: UNKNOWN ERROR (34)\n"
     ]
    },
    {
     "name": "stdout",
     "output_type": "stream",
     "text": [
      "WARNING:tensorflow:From /usr/local/lib/python3.8/dist-packages/tensorflow/python/autograph/impl/api.py:459: Bernoulli.__init__ (from tensorflow.python.ops.distributions.bernoulli) is deprecated and will be removed after 2019-01-01.\n",
      "Instructions for updating:\n",
      "The TensorFlow Distributions library has moved to TensorFlow Probability (https://github.com/tensorflow/probability). You should update all references to use `tfp.distributions` instead of `tf.distributions`.\n",
      "WARNING:tensorflow:From /usr/local/lib/python3.8/dist-packages/tensorflow/python/ops/distributions/bernoulli.py:86: Distribution.__init__ (from tensorflow.python.ops.distributions.distribution) is deprecated and will be removed after 2019-01-01.\n",
      "Instructions for updating:\n",
      "The TensorFlow Distributions library has moved to TensorFlow Probability (https://github.com/tensorflow/probability). You should update all references to use `tfp.distributions` instead of `tf.distributions`.\n",
      "no trained model available at saved_models/pre_trained/dwelling_worm/2/fold_1/False/1/discontinuous_scheduled_sampling_is.h5\n",
      "<model.nns.HorizonForcing object at 0x7f1f4d6e04f0>\n",
      "no trained model available at saved_models/pre_trained/dwelling_worm/2/fold_1/False/1/horizon_forcing_5.h5\n",
      "<model.nns.HorizonForcing object at 0x7f1f4d6e04f0>\n",
      "no trained model available at saved_models/pre_trained/dwelling_worm/2/fold_1/False/1/horizon_forcing_10.h5\n",
      "<model.nns.HorizonForcing object at 0x7f1f4d6e04f0>\n",
      "no trained model available at saved_models/pre_trained/dwelling_worm/2/fold_1/False/1/horizon_forcing_15.h5\n",
      "<model.nns.HorizonForcing object at 0x7f1f3c311af0>\n",
      "no trained model available at saved_models/pre_trained/dwelling_worm/2/fold_1/False/1/horizon_forcing_20.h5\n",
      "train_samples (4400, 400, 1), test_inputs (1210, 100, 1), y_true (1210, 300, 1)\n",
      "here 2 ecg/train, BLS pred shape is (1210, 160, 1); y_true shape is (1210, 160, 1)\n",
      "BLS on ecg/train:, y_true shape (1210, 160, 1); y_pred shape (1210, 160, 1)\n",
      "here 2 ecg/train, ELM pred shape is (1210, 160, 1); y_true shape is (1210, 160, 1)\n",
      "ELM on ecg/train:, y_true shape (1210, 160, 1); y_pred shape (1210, 160, 1)\n",
      "no trained model available at saved_models/pre_trained/ecg/train/fold_1/False/1/discontinuous_scheduled_sampling_is.h5\n",
      "<model.nns.HorizonForcing object at 0x7f1f4d653f40>\n",
      "no trained model available at saved_models/pre_trained/ecg/train/fold_1/False/1/horizon_forcing_5.h5\n",
      "<model.nns.HorizonForcing object at 0x7f1f4d653f40>\n",
      "no trained model available at saved_models/pre_trained/ecg/train/fold_1/False/1/horizon_forcing_10.h5\n",
      "<model.nns.HorizonForcing object at 0x7f1f4d653f40>\n",
      "no trained model available at saved_models/pre_trained/ecg/train/fold_1/False/1/horizon_forcing_15.h5\n",
      "<model.nns.HorizonForcing object at 0x7f1f4d653f40>\n",
      "no trained model available at saved_models/pre_trained/ecg/train/fold_1/False/1/horizon_forcing_20.h5\n",
      "train_samples (4160, 400, 10), test_inputs (1001, 100, 10), y_true (1001, 300, 10)\n",
      "here 2 ecosystem/, BLS pred shape is (1001, 150, 10); y_true shape is (1001, 150, 10)\n",
      "BLS on ecosystem/:, y_true shape (1001, 150, 10); y_pred shape (1001, 150, 10)\n",
      "here 2 ecosystem/, ELM pred shape is (1001, 150, 10); y_true shape is (1001, 150, 10)\n",
      "ELM on ecosystem/:, y_true shape (1001, 150, 10); y_pred shape (1001, 150, 10)\n",
      "ecosystem/, SSFS, pred shape is (1001, 250, 10); y_true shape is (1001, 150, 10); inference_steps 150\n",
      "here 2 ecosystem/, SSFS pred shape is (1001, 150, 10); y_true shape is (1001, 150, 10)\n",
      "SSFS on ecosystem/:, y_true shape (1001, 150, 10); y_pred shape (1001, 150, 10)\n",
      "ecosystem/, HF5, pred shape is (1001, 400, 10); y_true shape is (1001, 150, 10); inference_steps 150\n",
      "here 2 ecosystem/, HF5 pred shape is (1001, 150, 10); y_true shape is (1001, 150, 10)\n",
      "HF5 on ecosystem/:, y_true shape (1001, 150, 10); y_pred shape (1001, 150, 10)\n",
      "ecosystem/, HF10, pred shape is (1001, 400, 10); y_true shape is (1001, 150, 10); inference_steps 150\n",
      "here 2 ecosystem/, HF10 pred shape is (1001, 150, 10); y_true shape is (1001, 150, 10)\n",
      "HF10 on ecosystem/:, y_true shape (1001, 150, 10); y_pred shape (1001, 150, 10)\n",
      "ecosystem/, HF15, pred shape is (1001, 250, 10); y_true shape is (1001, 150, 10); inference_steps 150\n",
      "here 2 ecosystem/, HF15 pred shape is (1001, 150, 10); y_true shape is (1001, 150, 10)\n",
      "HF15 on ecosystem/:, y_true shape (1001, 150, 10); y_pred shape (1001, 150, 10)\n",
      "ecosystem/, HF20, pred shape is (1001, 250, 10); y_true shape is (1001, 150, 10); inference_steps 150\n",
      "here 2 ecosystem/, HF20 pred shape is (1001, 150, 10); y_true shape is (1001, 150, 10)\n",
      "HF20 on ecosystem/:, y_true shape (1001, 150, 10); y_pred shape (1001, 150, 10)\n",
      "train_samples (4000, 400, 1), test_inputs (1081, 100, 1), y_true (1081, 300, 1)\n",
      "here 2 electricity/, BLS pred shape is (1081, 300, 1); y_true shape is (1081, 300, 1)\n",
      "BLS on electricity/:, y_true shape (1081, 300, 1); y_pred shape (1081, 300, 1)\n",
      "here 2 electricity/, ELM pred shape is (1081, 300, 1); y_true shape is (1081, 300, 1)\n",
      "ELM on electricity/:, y_true shape (1081, 300, 1); y_pred shape (1081, 300, 1)\n",
      "electricity/, SSFS, pred shape is (1081, 400, 1); y_true shape is (1081, 300, 1); inference_steps 300\n",
      "here 2 electricity/, SSFS pred shape is (1081, 300, 1); y_true shape is (1081, 300, 1)\n",
      "SSFS on electricity/:, y_true shape (1081, 300, 1); y_pred shape (1081, 300, 1)\n",
      "electricity/, HF5, pred shape is (1081, 400, 1); y_true shape is (1081, 300, 1); inference_steps 300\n",
      "here 2 electricity/, HF5 pred shape is (1081, 300, 1); y_true shape is (1081, 300, 1)\n",
      "HF5 on electricity/:, y_true shape (1081, 300, 1); y_pred shape (1081, 300, 1)\n",
      "electricity/, HF10, pred shape is (1081, 400, 1); y_true shape is (1081, 300, 1); inference_steps 300\n",
      "here 2 electricity/, HF10 pred shape is (1081, 300, 1); y_true shape is (1081, 300, 1)\n",
      "HF10 on electricity/:, y_true shape (1081, 300, 1); y_pred shape (1081, 300, 1)\n",
      "electricity/, HF15, pred shape is (1081, 400, 1); y_true shape is (1081, 300, 1); inference_steps 300\n",
      "here 2 electricity/, HF15 pred shape is (1081, 300, 1); y_true shape is (1081, 300, 1)\n",
      "HF15 on electricity/:, y_true shape (1081, 300, 1); y_pred shape (1081, 300, 1)\n",
      "electricity/, HF20, pred shape is (1081, 400, 1); y_true shape is (1081, 300, 1); inference_steps 300\n",
      "here 2 electricity/, HF20 pred shape is (1081, 300, 1); y_true shape is (1081, 300, 1)\n",
      "HF20 on electricity/:, y_true shape (1081, 300, 1); y_pred shape (1081, 300, 1)\n",
      "train_samples (4480, 400, 6), test_inputs (1023, 100, 6), y_true (1023, 300, 6)\n",
      "here 2 gait_force/2, BLS pred shape is (1023, 300, 6); y_true shape is (1023, 300, 6)\n",
      "BLS on gait_force/2:, y_true shape (1023, 300, 6); y_pred shape (1023, 300, 6)\n",
      "here 2 gait_force/2, ELM pred shape is (1023, 300, 6); y_true shape is (1023, 300, 6)\n",
      "ELM on gait_force/2:, y_true shape (1023, 300, 6); y_pred shape (1023, 300, 6)\n",
      "gait_force/2, SSFS, pred shape is (1023, 400, 6); y_true shape is (1023, 300, 6); inference_steps 300\n",
      "here 2 gait_force/2, SSFS pred shape is (1023, 300, 6); y_true shape is (1023, 300, 6)\n",
      "SSFS on gait_force/2:, y_true shape (1023, 300, 6); y_pred shape (1023, 300, 6)\n",
      "gait_force/2, HF5, pred shape is (1023, 400, 6); y_true shape is (1023, 300, 6); inference_steps 300\n",
      "here 2 gait_force/2, HF5 pred shape is (1023, 300, 6); y_true shape is (1023, 300, 6)\n",
      "HF5 on gait_force/2:, y_true shape (1023, 300, 6); y_pred shape (1023, 300, 6)\n",
      "gait_force/2, HF10, pred shape is (1023, 400, 6); y_true shape is (1023, 300, 6); inference_steps 300\n",
      "here 2 gait_force/2, HF10 pred shape is (1023, 300, 6); y_true shape is (1023, 300, 6)\n",
      "HF10 on gait_force/2:, y_true shape (1023, 300, 6); y_pred shape (1023, 300, 6)\n",
      "gait_force/2, HF15, pred shape is (1023, 400, 6); y_true shape is (1023, 300, 6); inference_steps 300\n",
      "here 2 gait_force/2, HF15 pred shape is (1023, 300, 6); y_true shape is (1023, 300, 6)\n",
      "HF15 on gait_force/2:, y_true shape (1023, 300, 6); y_pred shape (1023, 300, 6)\n",
      "gait_force/2, HF20, pred shape is (1023, 400, 6); y_true shape is (1023, 300, 6); inference_steps 300\n",
      "here 2 gait_force/2, HF20 pred shape is (1023, 300, 6); y_true shape is (1023, 300, 6)\n",
      "HF20 on gait_force/2:, y_true shape (1023, 300, 6); y_pred shape (1023, 300, 6)\n",
      "train_samples (4000, 400, 24), test_inputs (801, 100, 24), y_true (801, 300, 24)\n"
     ]
    },
    {
     "name": "stderr",
     "output_type": "stream",
     "text": [
      "/tf/workspace/yong.zhuang001/HorizonForcing/model/bls.py:59: RuntimeWarning: overflow encountered in exp\n",
      "  return (2 / (1 + np.exp(-2 * x))) - 1\n"
     ]
    }
   ],
   "source": [
    "results = plot_comparison(\n",
    "    \"recurrent\",\n",
    "    figsize=(74, 18),\n",
    "    fontsize=30,\n",
    "    linewidth=5,\n",
    "    anchor=(0, -0.08, 1, 1),\n",
    "    legsize=25,\n",
    ")\n",
    "display(results)"
   ]
  },
  {
   "cell_type": "code",
   "execution_count": null,
   "metadata": {},
   "outputs": [],
   "source": []
  }
 ],
 "metadata": {
  "kernelspec": {
   "display_name": "Python 3 (ipykernel)",
   "language": "python",
   "name": "python3"
  },
  "language_info": {
   "codemirror_mode": {
    "name": "ipython",
    "version": 3
   },
   "file_extension": ".py",
   "mimetype": "text/x-python",
   "name": "python",
   "nbconvert_exporter": "python",
   "pygments_lexer": "ipython3",
   "version": "3.11.0rc1"
  }
 },
 "nbformat": 4,
 "nbformat_minor": 4
}
